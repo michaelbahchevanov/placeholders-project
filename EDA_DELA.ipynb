{
 "cells": [
  {
   "cell_type": "markdown",
   "id": "indirect-programmer",
   "metadata": {},
   "source": [
    "# Exploratory Data Analysis (EDA) - DELA\n",
    "***"
   ]
  },
  {
   "cell_type": "markdown",
   "id": "recognized-duncan",
   "metadata": {},
   "source": [
    "## 1. Introduction\n"
   ]
  },
  {
   "cell_type": "markdown",
   "id": "skilled-programmer",
   "metadata": {},
   "source": [
    "## 1.1 About\n",
    "This document is going to look into the data provided by DELA. This project is going to be conducted within the field of education meaning that the data provided is either publicly available or previously disclosed."
   ]
  },
  {
   "cell_type": "markdown",
   "id": "indoor-class",
   "metadata": {},
   "source": [
    "## 1.2 Goal  \n",
    "The goal of this document is to conduct an Exploratory Data Analysis (__EDA__) that will give a general overview of the data provided and all the opportunities that come with it.\n",
    "***"
   ]
  },
  {
   "cell_type": "markdown",
   "id": "literary-specialist",
   "metadata": {},
   "source": [
    "## 2. Preparations"
   ]
  },
  {
   "cell_type": "markdown",
   "id": "wired-piece",
   "metadata": {},
   "source": [
    "### 2.1 Importing Libraries"
   ]
  },
  {
   "cell_type": "code",
   "execution_count": 1,
   "id": "healthy-brown",
   "metadata": {},
   "outputs": [],
   "source": [
    "import numpy as np\n",
    "import pandas as pd\n",
    "from matplotlib import pyplot as plt\n",
    "import seaborn as sns\n",
    "import calendar"
   ]
  },
  {
   "cell_type": "markdown",
   "id": "specific-messenger",
   "metadata": {},
   "source": [
    "### 2.2 Loading the Data"
   ]
  },
  {
   "cell_type": "code",
   "execution_count": 2,
   "id": "western-broadcast",
   "metadata": {},
   "outputs": [],
   "source": [
    "df = pd.read_csv('data.csv', sep = ';', encoding = 'utf-8')"
   ]
  },
  {
   "cell_type": "markdown",
   "id": "tested-consent",
   "metadata": {},
   "source": [
    "Firstly, a quick glimpse of the data provides a basic understanding of the amount of entries and data types inside the source."
   ]
  },
  {
   "cell_type": "code",
   "execution_count": 3,
   "id": "defensive-monte",
   "metadata": {},
   "outputs": [
    {
     "name": "stdout",
     "output_type": "stream",
     "text": [
      "<class 'pandas.core.frame.DataFrame'>\n",
      "RangeIndex: 25408 entries, 0 to 25407\n",
      "Data columns (total 3 columns):\n",
      " #   Column        Non-Null Count  Dtype \n",
      "---  ------        --------------  ----- \n",
      " 0   omschrijving  25408 non-null  object\n",
      " 1   mld_dat       25408 non-null  object\n",
      " 2   Aantal        25408 non-null  int64 \n",
      "dtypes: int64(1), object(2)\n",
      "memory usage: 595.6+ KB\n"
     ]
    }
   ],
   "source": [
    "df.info()"
   ]
  },
  {
   "cell_type": "markdown",
   "id": "shared-paraguay",
   "metadata": {},
   "source": [
    "A general look of the information provided:"
   ]
  },
  {
   "cell_type": "code",
   "execution_count": 4,
   "id": "overhead-armor",
   "metadata": {},
   "outputs": [
    {
     "data": {
      "text/html": [
       "<div>\n",
       "<style scoped>\n",
       "    .dataframe tbody tr th:only-of-type {\n",
       "        vertical-align: middle;\n",
       "    }\n",
       "\n",
       "    .dataframe tbody tr th {\n",
       "        vertical-align: top;\n",
       "    }\n",
       "\n",
       "    .dataframe thead th {\n",
       "        text-align: right;\n",
       "    }\n",
       "</style>\n",
       "<table border=\"1\" class=\"dataframe\">\n",
       "  <thead>\n",
       "    <tr style=\"text-align: right;\">\n",
       "      <th></th>\n",
       "      <th>omschrijving</th>\n",
       "      <th>mld_dat</th>\n",
       "      <th>Aantal</th>\n",
       "    </tr>\n",
       "  </thead>\n",
       "  <tbody>\n",
       "    <tr>\n",
       "      <th>0</th>\n",
       "      <td>Arnhem</td>\n",
       "      <td>31/12/2020</td>\n",
       "      <td>4</td>\n",
       "    </tr>\n",
       "    <tr>\n",
       "      <th>1</th>\n",
       "      <td>Breda</td>\n",
       "      <td>31/12/2020</td>\n",
       "      <td>5</td>\n",
       "    </tr>\n",
       "    <tr>\n",
       "      <th>2</th>\n",
       "      <td>Den Bosch</td>\n",
       "      <td>31/12/2020</td>\n",
       "      <td>8</td>\n",
       "    </tr>\n",
       "    <tr>\n",
       "      <th>3</th>\n",
       "      <td>Eindhoven</td>\n",
       "      <td>31/12/2020</td>\n",
       "      <td>9</td>\n",
       "    </tr>\n",
       "    <tr>\n",
       "      <th>4</th>\n",
       "      <td>Haaglanden</td>\n",
       "      <td>31/12/2020</td>\n",
       "      <td>5</td>\n",
       "    </tr>\n",
       "    <tr>\n",
       "      <th>...</th>\n",
       "      <td>...</td>\n",
       "      <td>...</td>\n",
       "      <td>...</td>\n",
       "    </tr>\n",
       "    <tr>\n",
       "      <th>25403</th>\n",
       "      <td>Tilburg</td>\n",
       "      <td>02/01/2017</td>\n",
       "      <td>6</td>\n",
       "    </tr>\n",
       "    <tr>\n",
       "      <th>25404</th>\n",
       "      <td>Twente/Achterhoek</td>\n",
       "      <td>02/01/2017</td>\n",
       "      <td>4</td>\n",
       "    </tr>\n",
       "    <tr>\n",
       "      <th>25405</th>\n",
       "      <td>Veluwe/Flevoland</td>\n",
       "      <td>02/01/2017</td>\n",
       "      <td>3</td>\n",
       "    </tr>\n",
       "    <tr>\n",
       "      <th>25406</th>\n",
       "      <td>West Brabant/Zeeland</td>\n",
       "      <td>02/01/2017</td>\n",
       "      <td>6</td>\n",
       "    </tr>\n",
       "    <tr>\n",
       "      <th>25407</th>\n",
       "      <td>Zuid Limburg</td>\n",
       "      <td>02/01/2017</td>\n",
       "      <td>4</td>\n",
       "    </tr>\n",
       "  </tbody>\n",
       "</table>\n",
       "<p>25408 rows × 3 columns</p>\n",
       "</div>"
      ],
      "text/plain": [
       "                         omschrijving     mld_dat  Aantal\n",
       "0      Arnhem                          31/12/2020       4\n",
       "1      Breda                           31/12/2020       5\n",
       "2      Den Bosch                       31/12/2020       8\n",
       "3      Eindhoven                       31/12/2020       9\n",
       "4      Haaglanden                      31/12/2020       5\n",
       "...                               ...         ...     ...\n",
       "25403  Tilburg                         02/01/2017       6\n",
       "25404  Twente/Achterhoek               02/01/2017       4\n",
       "25405  Veluwe/Flevoland                02/01/2017       3\n",
       "25406  West Brabant/Zeeland            02/01/2017       6\n",
       "25407  Zuid Limburg                    02/01/2017       4\n",
       "\n",
       "[25408 rows x 3 columns]"
      ]
     },
     "execution_count": 4,
     "metadata": {},
     "output_type": "execute_result"
    }
   ],
   "source": [
    "df"
   ]
  },
  {
   "cell_type": "markdown",
   "id": "hispanic-change",
   "metadata": {},
   "source": [
    "The data consists of 25408 rows divided into 3 columns. This concludes the loading of the data as it now ready for further investigation."
   ]
  },
  {
   "cell_type": "markdown",
   "id": "pressing-correction",
   "metadata": {},
   "source": [
    "### 2.3 Exploring the data"
   ]
  },
  {
   "cell_type": "markdown",
   "id": "representative-bachelor",
   "metadata": {},
   "source": [
    "The first logical thing is to check for null values."
   ]
  },
  {
   "cell_type": "code",
   "execution_count": 5,
   "id": "editorial-malaysia",
   "metadata": {},
   "outputs": [
    {
     "data": {
      "text/plain": [
       "omschrijving    0\n",
       "mld_dat         0\n",
       "Aantal          0\n",
       "dtype: int64"
      ]
     },
     "execution_count": 5,
     "metadata": {},
     "output_type": "execute_result"
    }
   ],
   "source": [
    "df.isnull().sum()"
   ]
  },
  {
   "cell_type": "markdown",
   "id": "presidential-justice",
   "metadata": {},
   "source": [
    "It was concluded that no null values are recorded. The next logical step is to check for duplicate data."
   ]
  },
  {
   "cell_type": "code",
   "execution_count": 6,
   "id": "criminal-massage",
   "metadata": {},
   "outputs": [
    {
     "data": {
      "text/plain": [
       "0"
      ]
     },
     "execution_count": 6,
     "metadata": {},
     "output_type": "execute_result"
    }
   ],
   "source": [
    "df.duplicated().sum()\n"
   ]
  },
  {
   "cell_type": "markdown",
   "id": "excellent-camel",
   "metadata": {},
   "source": [
    "It was also concluded that the data has no duplicate entries which allows for safely diving deeper into the research. But in order to do that, as the team is international, a translation of the columns in English is required."
   ]
  },
  {
   "cell_type": "code",
   "execution_count": 7,
   "id": "indoor-groove",
   "metadata": {},
   "outputs": [],
   "source": [
    "df.columns = ['region', 'date', 'amount']"
   ]
  },
  {
   "cell_type": "markdown",
   "id": "physical-southeast",
   "metadata": {},
   "source": [
    "The next step is to transform the date into a proper date time object."
   ]
  },
  {
   "cell_type": "code",
   "execution_count": 8,
   "id": "streaming-cisco",
   "metadata": {},
   "outputs": [],
   "source": [
    "df['date'] = pd.to_datetime(df.date)"
   ]
  },
  {
   "cell_type": "code",
   "execution_count": 9,
   "id": "desperate-cedar",
   "metadata": {},
   "outputs": [
    {
     "data": {
      "text/html": [
       "<div>\n",
       "<style scoped>\n",
       "    .dataframe tbody tr th:only-of-type {\n",
       "        vertical-align: middle;\n",
       "    }\n",
       "\n",
       "    .dataframe tbody tr th {\n",
       "        vertical-align: top;\n",
       "    }\n",
       "\n",
       "    .dataframe thead th {\n",
       "        text-align: right;\n",
       "    }\n",
       "</style>\n",
       "<table border=\"1\" class=\"dataframe\">\n",
       "  <thead>\n",
       "    <tr style=\"text-align: right;\">\n",
       "      <th></th>\n",
       "      <th>region</th>\n",
       "      <th>date</th>\n",
       "      <th>amount</th>\n",
       "    </tr>\n",
       "  </thead>\n",
       "  <tbody>\n",
       "    <tr>\n",
       "      <th>0</th>\n",
       "      <td>Arnhem</td>\n",
       "      <td>2020-12-31</td>\n",
       "      <td>4</td>\n",
       "    </tr>\n",
       "    <tr>\n",
       "      <th>1</th>\n",
       "      <td>Breda</td>\n",
       "      <td>2020-12-31</td>\n",
       "      <td>5</td>\n",
       "    </tr>\n",
       "    <tr>\n",
       "      <th>2</th>\n",
       "      <td>Den Bosch</td>\n",
       "      <td>2020-12-31</td>\n",
       "      <td>8</td>\n",
       "    </tr>\n",
       "    <tr>\n",
       "      <th>3</th>\n",
       "      <td>Eindhoven</td>\n",
       "      <td>2020-12-31</td>\n",
       "      <td>9</td>\n",
       "    </tr>\n",
       "    <tr>\n",
       "      <th>4</th>\n",
       "      <td>Haaglanden</td>\n",
       "      <td>2020-12-31</td>\n",
       "      <td>5</td>\n",
       "    </tr>\n",
       "    <tr>\n",
       "      <th>5</th>\n",
       "      <td>Kempenland</td>\n",
       "      <td>2020-12-31</td>\n",
       "      <td>5</td>\n",
       "    </tr>\n",
       "    <tr>\n",
       "      <th>6</th>\n",
       "      <td>Midden Limburg</td>\n",
       "      <td>2020-12-31</td>\n",
       "      <td>7</td>\n",
       "    </tr>\n",
       "    <tr>\n",
       "      <th>7</th>\n",
       "      <td>Midden Nederland</td>\n",
       "      <td>2020-12-31</td>\n",
       "      <td>7</td>\n",
       "    </tr>\n",
       "    <tr>\n",
       "      <th>8</th>\n",
       "      <td>Nijmegen</td>\n",
       "      <td>2020-12-31</td>\n",
       "      <td>6</td>\n",
       "    </tr>\n",
       "    <tr>\n",
       "      <th>9</th>\n",
       "      <td>NOORD</td>\n",
       "      <td>2020-12-31</td>\n",
       "      <td>4</td>\n",
       "    </tr>\n",
       "  </tbody>\n",
       "</table>\n",
       "</div>"
      ],
      "text/plain": [
       "                           region       date  amount\n",
       "0  Arnhem                         2020-12-31       4\n",
       "1  Breda                          2020-12-31       5\n",
       "2  Den Bosch                      2020-12-31       8\n",
       "3  Eindhoven                      2020-12-31       9\n",
       "4  Haaglanden                     2020-12-31       5\n",
       "5  Kempenland                     2020-12-31       5\n",
       "6  Midden Limburg                 2020-12-31       7\n",
       "7  Midden Nederland               2020-12-31       7\n",
       "8  Nijmegen                       2020-12-31       6\n",
       "9  NOORD                          2020-12-31       4"
      ]
     },
     "execution_count": 9,
     "metadata": {},
     "output_type": "execute_result"
    }
   ],
   "source": [
    "df.head(10)"
   ]
  },
  {
   "cell_type": "markdown",
   "id": "undefined-rates",
   "metadata": {},
   "source": [
    "Now that the date is in the proper format, it can be seen what timespan is."
   ]
  },
  {
   "cell_type": "code",
   "execution_count": 10,
   "id": "freelance-physics",
   "metadata": {},
   "outputs": [
    {
     "name": "stdout",
     "output_type": "stream",
     "text": [
      "Max =  2020-12-31 00:00:00 Min =  2017-01-02 00:00:00\n"
     ]
    }
   ],
   "source": [
    "print(\"Max = \", df[\"date\"].max(), \"Min = \", df[\"date\"].min())"
   ]
  },
  {
   "cell_type": "markdown",
   "id": "contained-reliance",
   "metadata": {},
   "source": [
    "What is observed is that the data spans from 2017-01-02 until the end of year 2020 (2020-12-31)."
   ]
  },
  {
   "cell_type": "markdown",
   "id": "related-librarian",
   "metadata": {},
   "source": [
    "Next new columns for each year, month, day and weekday are created."
   ]
  },
  {
   "cell_type": "code",
   "execution_count": 11,
   "id": "progressive-equity",
   "metadata": {},
   "outputs": [],
   "source": [
    "df['year'] = df['date'].dt.year\n",
    "df['month'] = df['date'].dt.month\n",
    "df['day'] = df['date'].dt.day\n",
    "df['wkday'] = df['date'].dt.strftime(\"%A\")"
   ]
  },
  {
   "cell_type": "markdown",
   "id": "artificial-execution",
   "metadata": {},
   "source": [
    "That is going to allow for further elaborate data visualization possibilities later on."
   ]
  },
  {
   "cell_type": "code",
   "execution_count": 12,
   "id": "northern-grill",
   "metadata": {
    "scrolled": true
   },
   "outputs": [
    {
     "data": {
      "text/html": [
       "<div>\n",
       "<style scoped>\n",
       "    .dataframe tbody tr th:only-of-type {\n",
       "        vertical-align: middle;\n",
       "    }\n",
       "\n",
       "    .dataframe tbody tr th {\n",
       "        vertical-align: top;\n",
       "    }\n",
       "\n",
       "    .dataframe thead th {\n",
       "        text-align: right;\n",
       "    }\n",
       "</style>\n",
       "<table border=\"1\" class=\"dataframe\">\n",
       "  <thead>\n",
       "    <tr style=\"text-align: right;\">\n",
       "      <th></th>\n",
       "      <th>region</th>\n",
       "      <th>date</th>\n",
       "      <th>amount</th>\n",
       "      <th>year</th>\n",
       "      <th>month</th>\n",
       "      <th>day</th>\n",
       "      <th>wkday</th>\n",
       "    </tr>\n",
       "  </thead>\n",
       "  <tbody>\n",
       "    <tr>\n",
       "      <th>0</th>\n",
       "      <td>Arnhem</td>\n",
       "      <td>2020-12-31</td>\n",
       "      <td>4</td>\n",
       "      <td>2020</td>\n",
       "      <td>12</td>\n",
       "      <td>31</td>\n",
       "      <td>Thursday</td>\n",
       "    </tr>\n",
       "    <tr>\n",
       "      <th>1</th>\n",
       "      <td>Breda</td>\n",
       "      <td>2020-12-31</td>\n",
       "      <td>5</td>\n",
       "      <td>2020</td>\n",
       "      <td>12</td>\n",
       "      <td>31</td>\n",
       "      <td>Thursday</td>\n",
       "    </tr>\n",
       "    <tr>\n",
       "      <th>2</th>\n",
       "      <td>Den Bosch</td>\n",
       "      <td>2020-12-31</td>\n",
       "      <td>8</td>\n",
       "      <td>2020</td>\n",
       "      <td>12</td>\n",
       "      <td>31</td>\n",
       "      <td>Thursday</td>\n",
       "    </tr>\n",
       "    <tr>\n",
       "      <th>3</th>\n",
       "      <td>Eindhoven</td>\n",
       "      <td>2020-12-31</td>\n",
       "      <td>9</td>\n",
       "      <td>2020</td>\n",
       "      <td>12</td>\n",
       "      <td>31</td>\n",
       "      <td>Thursday</td>\n",
       "    </tr>\n",
       "    <tr>\n",
       "      <th>4</th>\n",
       "      <td>Haaglanden</td>\n",
       "      <td>2020-12-31</td>\n",
       "      <td>5</td>\n",
       "      <td>2020</td>\n",
       "      <td>12</td>\n",
       "      <td>31</td>\n",
       "      <td>Thursday</td>\n",
       "    </tr>\n",
       "    <tr>\n",
       "      <th>...</th>\n",
       "      <td>...</td>\n",
       "      <td>...</td>\n",
       "      <td>...</td>\n",
       "      <td>...</td>\n",
       "      <td>...</td>\n",
       "      <td>...</td>\n",
       "      <td>...</td>\n",
       "    </tr>\n",
       "    <tr>\n",
       "      <th>25403</th>\n",
       "      <td>Tilburg</td>\n",
       "      <td>2017-02-01</td>\n",
       "      <td>6</td>\n",
       "      <td>2017</td>\n",
       "      <td>2</td>\n",
       "      <td>1</td>\n",
       "      <td>Wednesday</td>\n",
       "    </tr>\n",
       "    <tr>\n",
       "      <th>25404</th>\n",
       "      <td>Twente/Achterhoek</td>\n",
       "      <td>2017-02-01</td>\n",
       "      <td>4</td>\n",
       "      <td>2017</td>\n",
       "      <td>2</td>\n",
       "      <td>1</td>\n",
       "      <td>Wednesday</td>\n",
       "    </tr>\n",
       "    <tr>\n",
       "      <th>25405</th>\n",
       "      <td>Veluwe/Flevoland</td>\n",
       "      <td>2017-02-01</td>\n",
       "      <td>3</td>\n",
       "      <td>2017</td>\n",
       "      <td>2</td>\n",
       "      <td>1</td>\n",
       "      <td>Wednesday</td>\n",
       "    </tr>\n",
       "    <tr>\n",
       "      <th>25406</th>\n",
       "      <td>West Brabant/Zeeland</td>\n",
       "      <td>2017-02-01</td>\n",
       "      <td>6</td>\n",
       "      <td>2017</td>\n",
       "      <td>2</td>\n",
       "      <td>1</td>\n",
       "      <td>Wednesday</td>\n",
       "    </tr>\n",
       "    <tr>\n",
       "      <th>25407</th>\n",
       "      <td>Zuid Limburg</td>\n",
       "      <td>2017-02-01</td>\n",
       "      <td>4</td>\n",
       "      <td>2017</td>\n",
       "      <td>2</td>\n",
       "      <td>1</td>\n",
       "      <td>Wednesday</td>\n",
       "    </tr>\n",
       "  </tbody>\n",
       "</table>\n",
       "<p>25408 rows × 7 columns</p>\n",
       "</div>"
      ],
      "text/plain": [
       "                               region       date  amount  year  month  day  \\\n",
       "0      Arnhem                         2020-12-31       4  2020     12   31   \n",
       "1      Breda                          2020-12-31       5  2020     12   31   \n",
       "2      Den Bosch                      2020-12-31       8  2020     12   31   \n",
       "3      Eindhoven                      2020-12-31       9  2020     12   31   \n",
       "4      Haaglanden                     2020-12-31       5  2020     12   31   \n",
       "...                               ...        ...     ...   ...    ...  ...   \n",
       "25403  Tilburg                        2017-02-01       6  2017      2    1   \n",
       "25404  Twente/Achterhoek              2017-02-01       4  2017      2    1   \n",
       "25405  Veluwe/Flevoland               2017-02-01       3  2017      2    1   \n",
       "25406  West Brabant/Zeeland           2017-02-01       6  2017      2    1   \n",
       "25407  Zuid Limburg                   2017-02-01       4  2017      2    1   \n",
       "\n",
       "           wkday  \n",
       "0       Thursday  \n",
       "1       Thursday  \n",
       "2       Thursday  \n",
       "3       Thursday  \n",
       "4       Thursday  \n",
       "...          ...  \n",
       "25403  Wednesday  \n",
       "25404  Wednesday  \n",
       "25405  Wednesday  \n",
       "25406  Wednesday  \n",
       "25407  Wednesday  \n",
       "\n",
       "[25408 rows x 7 columns]"
      ]
     },
     "execution_count": 12,
     "metadata": {},
     "output_type": "execute_result"
    }
   ],
   "source": [
    "df"
   ]
  },
  {
   "cell_type": "markdown",
   "id": "temporal-alexandria",
   "metadata": {},
   "source": [
    "It was noticed that there was some extra whitespace following the region, so that is quickly removed."
   ]
  },
  {
   "cell_type": "code",
   "execution_count": 13,
   "id": "stylish-tactics",
   "metadata": {},
   "outputs": [],
   "source": [
    "df['region'] = df['region'].str.strip()"
   ]
  },
  {
   "cell_type": "markdown",
   "id": "efficient-philippines",
   "metadata": {},
   "source": [
    "Finally, a look into the modified data. This allows for seeing current trends, unique values, null fields, as well as the quartile ranges and their respective measurements."
   ]
  },
  {
   "cell_type": "code",
   "execution_count": 14,
   "id": "bound-overview",
   "metadata": {
    "scrolled": true
   },
   "outputs": [
    {
     "data": {
      "text/html": [
       "<div>\n",
       "<style scoped>\n",
       "    .dataframe tbody tr th:only-of-type {\n",
       "        vertical-align: middle;\n",
       "    }\n",
       "\n",
       "    .dataframe tbody tr th {\n",
       "        vertical-align: top;\n",
       "    }\n",
       "\n",
       "    .dataframe thead th {\n",
       "        text-align: right;\n",
       "    }\n",
       "</style>\n",
       "<table border=\"1\" class=\"dataframe\">\n",
       "  <thead>\n",
       "    <tr style=\"text-align: right;\">\n",
       "      <th></th>\n",
       "      <th>region</th>\n",
       "      <th>date</th>\n",
       "      <th>amount</th>\n",
       "      <th>year</th>\n",
       "      <th>month</th>\n",
       "      <th>day</th>\n",
       "      <th>wkday</th>\n",
       "    </tr>\n",
       "  </thead>\n",
       "  <tbody>\n",
       "    <tr>\n",
       "      <th>count</th>\n",
       "      <td>25408</td>\n",
       "      <td>25408</td>\n",
       "      <td>25408.00000</td>\n",
       "      <td>25408.000000</td>\n",
       "      <td>25408.000000</td>\n",
       "      <td>25408.000000</td>\n",
       "      <td>25408</td>\n",
       "    </tr>\n",
       "    <tr>\n",
       "      <th>unique</th>\n",
       "      <td>20</td>\n",
       "      <td>NaN</td>\n",
       "      <td>NaN</td>\n",
       "      <td>NaN</td>\n",
       "      <td>NaN</td>\n",
       "      <td>NaN</td>\n",
       "      <td>7</td>\n",
       "    </tr>\n",
       "    <tr>\n",
       "      <th>top</th>\n",
       "      <td>Ondernemersgebied</td>\n",
       "      <td>NaN</td>\n",
       "      <td>NaN</td>\n",
       "      <td>NaN</td>\n",
       "      <td>NaN</td>\n",
       "      <td>NaN</td>\n",
       "      <td>Wednesday</td>\n",
       "    </tr>\n",
       "    <tr>\n",
       "      <th>freq</th>\n",
       "      <td>1460</td>\n",
       "      <td>NaN</td>\n",
       "      <td>NaN</td>\n",
       "      <td>NaN</td>\n",
       "      <td>NaN</td>\n",
       "      <td>NaN</td>\n",
       "      <td>3645</td>\n",
       "    </tr>\n",
       "    <tr>\n",
       "      <th>mean</th>\n",
       "      <td>NaN</td>\n",
       "      <td>2019-01-09 00:09:10.881612032</td>\n",
       "      <td>4.51106</td>\n",
       "      <td>2018.522749</td>\n",
       "      <td>6.524638</td>\n",
       "      <td>15.749764</td>\n",
       "      <td>NaN</td>\n",
       "    </tr>\n",
       "    <tr>\n",
       "      <th>min</th>\n",
       "      <td>NaN</td>\n",
       "      <td>2017-01-02 00:00:00</td>\n",
       "      <td>1.00000</td>\n",
       "      <td>2017.000000</td>\n",
       "      <td>1.000000</td>\n",
       "      <td>1.000000</td>\n",
       "      <td>NaN</td>\n",
       "    </tr>\n",
       "    <tr>\n",
       "      <th>25%</th>\n",
       "      <td>NaN</td>\n",
       "      <td>2018-01-14 00:00:00</td>\n",
       "      <td>3.00000</td>\n",
       "      <td>2018.000000</td>\n",
       "      <td>4.000000</td>\n",
       "      <td>8.000000</td>\n",
       "      <td>NaN</td>\n",
       "    </tr>\n",
       "    <tr>\n",
       "      <th>50%</th>\n",
       "      <td>NaN</td>\n",
       "      <td>2019-01-11 00:00:00</td>\n",
       "      <td>4.00000</td>\n",
       "      <td>2019.000000</td>\n",
       "      <td>7.000000</td>\n",
       "      <td>16.000000</td>\n",
       "      <td>NaN</td>\n",
       "    </tr>\n",
       "    <tr>\n",
       "      <th>75%</th>\n",
       "      <td>NaN</td>\n",
       "      <td>2020-01-09 00:00:00</td>\n",
       "      <td>6.00000</td>\n",
       "      <td>2020.000000</td>\n",
       "      <td>10.000000</td>\n",
       "      <td>23.000000</td>\n",
       "      <td>NaN</td>\n",
       "    </tr>\n",
       "    <tr>\n",
       "      <th>max</th>\n",
       "      <td>NaN</td>\n",
       "      <td>2020-12-31 00:00:00</td>\n",
       "      <td>25.00000</td>\n",
       "      <td>2020.000000</td>\n",
       "      <td>12.000000</td>\n",
       "      <td>31.000000</td>\n",
       "      <td>NaN</td>\n",
       "    </tr>\n",
       "    <tr>\n",
       "      <th>std</th>\n",
       "      <td>NaN</td>\n",
       "      <td>NaN</td>\n",
       "      <td>2.62574</td>\n",
       "      <td>1.115145</td>\n",
       "      <td>3.454969</td>\n",
       "      <td>8.793250</td>\n",
       "      <td>NaN</td>\n",
       "    </tr>\n",
       "  </tbody>\n",
       "</table>\n",
       "</div>"
      ],
      "text/plain": [
       "                   region                           date       amount  \\\n",
       "count               25408                          25408  25408.00000   \n",
       "unique                 20                            NaN          NaN   \n",
       "top     Ondernemersgebied                            NaN          NaN   \n",
       "freq                 1460                            NaN          NaN   \n",
       "mean                  NaN  2019-01-09 00:09:10.881612032      4.51106   \n",
       "min                   NaN            2017-01-02 00:00:00      1.00000   \n",
       "25%                   NaN            2018-01-14 00:00:00      3.00000   \n",
       "50%                   NaN            2019-01-11 00:00:00      4.00000   \n",
       "75%                   NaN            2020-01-09 00:00:00      6.00000   \n",
       "max                   NaN            2020-12-31 00:00:00     25.00000   \n",
       "std                   NaN                            NaN      2.62574   \n",
       "\n",
       "                year         month           day      wkday  \n",
       "count   25408.000000  25408.000000  25408.000000      25408  \n",
       "unique           NaN           NaN           NaN          7  \n",
       "top              NaN           NaN           NaN  Wednesday  \n",
       "freq             NaN           NaN           NaN       3645  \n",
       "mean     2018.522749      6.524638     15.749764        NaN  \n",
       "min      2017.000000      1.000000      1.000000        NaN  \n",
       "25%      2018.000000      4.000000      8.000000        NaN  \n",
       "50%      2019.000000      7.000000     16.000000        NaN  \n",
       "75%      2020.000000     10.000000     23.000000        NaN  \n",
       "max      2020.000000     12.000000     31.000000        NaN  \n",
       "std         1.115145      3.454969      8.793250        NaN  "
      ]
     },
     "execution_count": 14,
     "metadata": {},
     "output_type": "execute_result"
    }
   ],
   "source": [
    "df.describe(include=\"all\", datetime_is_numeric=True)"
   ]
  },
  {
   "cell_type": "markdown",
   "id": "short-values",
   "metadata": {},
   "source": [
    "***"
   ]
  },
  {
   "cell_type": "markdown",
   "id": "confidential-tobacco",
   "metadata": {},
   "source": [
    "## 3. Analyzing Relations"
   ]
  },
  {
   "cell_type": "markdown",
   "id": "serial-science",
   "metadata": {},
   "source": [
    "### 3.1 Analysis of relations between the date and the amount of deaths"
   ]
  },
  {
   "cell_type": "markdown",
   "id": "rental-fiction",
   "metadata": {},
   "source": [
    "The first grouping is sum of the amount of deaths per year, month and day respectively."
   ]
  },
  {
   "cell_type": "code",
   "execution_count": 22,
   "id": "warming-watson",
   "metadata": {},
   "outputs": [],
   "source": [
    "df_grouped_by_date = df.groupby('date', as_index = False).sum()"
   ]
  },
  {
   "cell_type": "code",
   "execution_count": 23,
   "id": "announced-income",
   "metadata": {},
   "outputs": [
    {
     "data": {
      "text/html": [
       "<div>\n",
       "<style scoped>\n",
       "    .dataframe tbody tr th:only-of-type {\n",
       "        vertical-align: middle;\n",
       "    }\n",
       "\n",
       "    .dataframe tbody tr th {\n",
       "        vertical-align: top;\n",
       "    }\n",
       "\n",
       "    .dataframe thead th {\n",
       "        text-align: right;\n",
       "    }\n",
       "</style>\n",
       "<table border=\"1\" class=\"dataframe\">\n",
       "  <thead>\n",
       "    <tr style=\"text-align: right;\">\n",
       "      <th></th>\n",
       "      <th>region</th>\n",
       "      <th>date</th>\n",
       "      <th>amount</th>\n",
       "      <th>year</th>\n",
       "      <th>month</th>\n",
       "      <th>day</th>\n",
       "      <th>wkday</th>\n",
       "    </tr>\n",
       "  </thead>\n",
       "  <tbody>\n",
       "    <tr>\n",
       "      <th>0</th>\n",
       "      <td>Arnhem</td>\n",
       "      <td>2020-12-31</td>\n",
       "      <td>4</td>\n",
       "      <td>2020</td>\n",
       "      <td>12</td>\n",
       "      <td>31</td>\n",
       "      <td>Thursday</td>\n",
       "    </tr>\n",
       "    <tr>\n",
       "      <th>1</th>\n",
       "      <td>Breda</td>\n",
       "      <td>2020-12-31</td>\n",
       "      <td>5</td>\n",
       "      <td>2020</td>\n",
       "      <td>12</td>\n",
       "      <td>31</td>\n",
       "      <td>Thursday</td>\n",
       "    </tr>\n",
       "    <tr>\n",
       "      <th>2</th>\n",
       "      <td>Den Bosch</td>\n",
       "      <td>2020-12-31</td>\n",
       "      <td>8</td>\n",
       "      <td>2020</td>\n",
       "      <td>12</td>\n",
       "      <td>31</td>\n",
       "      <td>Thursday</td>\n",
       "    </tr>\n",
       "    <tr>\n",
       "      <th>3</th>\n",
       "      <td>Eindhoven</td>\n",
       "      <td>2020-12-31</td>\n",
       "      <td>9</td>\n",
       "      <td>2020</td>\n",
       "      <td>12</td>\n",
       "      <td>31</td>\n",
       "      <td>Thursday</td>\n",
       "    </tr>\n",
       "    <tr>\n",
       "      <th>4</th>\n",
       "      <td>Haaglanden</td>\n",
       "      <td>2020-12-31</td>\n",
       "      <td>5</td>\n",
       "      <td>2020</td>\n",
       "      <td>12</td>\n",
       "      <td>31</td>\n",
       "      <td>Thursday</td>\n",
       "    </tr>\n",
       "    <tr>\n",
       "      <th>...</th>\n",
       "      <td>...</td>\n",
       "      <td>...</td>\n",
       "      <td>...</td>\n",
       "      <td>...</td>\n",
       "      <td>...</td>\n",
       "      <td>...</td>\n",
       "      <td>...</td>\n",
       "    </tr>\n",
       "    <tr>\n",
       "      <th>25403</th>\n",
       "      <td>Tilburg</td>\n",
       "      <td>2017-02-01</td>\n",
       "      <td>6</td>\n",
       "      <td>2017</td>\n",
       "      <td>2</td>\n",
       "      <td>1</td>\n",
       "      <td>Wednesday</td>\n",
       "    </tr>\n",
       "    <tr>\n",
       "      <th>25404</th>\n",
       "      <td>Twente/Achterhoek</td>\n",
       "      <td>2017-02-01</td>\n",
       "      <td>4</td>\n",
       "      <td>2017</td>\n",
       "      <td>2</td>\n",
       "      <td>1</td>\n",
       "      <td>Wednesday</td>\n",
       "    </tr>\n",
       "    <tr>\n",
       "      <th>25405</th>\n",
       "      <td>Veluwe/Flevoland</td>\n",
       "      <td>2017-02-01</td>\n",
       "      <td>3</td>\n",
       "      <td>2017</td>\n",
       "      <td>2</td>\n",
       "      <td>1</td>\n",
       "      <td>Wednesday</td>\n",
       "    </tr>\n",
       "    <tr>\n",
       "      <th>25406</th>\n",
       "      <td>West Brabant/Zeeland</td>\n",
       "      <td>2017-02-01</td>\n",
       "      <td>6</td>\n",
       "      <td>2017</td>\n",
       "      <td>2</td>\n",
       "      <td>1</td>\n",
       "      <td>Wednesday</td>\n",
       "    </tr>\n",
       "    <tr>\n",
       "      <th>25407</th>\n",
       "      <td>Zuid Limburg</td>\n",
       "      <td>2017-02-01</td>\n",
       "      <td>4</td>\n",
       "      <td>2017</td>\n",
       "      <td>2</td>\n",
       "      <td>1</td>\n",
       "      <td>Wednesday</td>\n",
       "    </tr>\n",
       "  </tbody>\n",
       "</table>\n",
       "<p>25408 rows × 7 columns</p>\n",
       "</div>"
      ],
      "text/plain": [
       "                     region       date  amount  year  month  day      wkday\n",
       "0                    Arnhem 2020-12-31       4  2020     12   31   Thursday\n",
       "1                     Breda 2020-12-31       5  2020     12   31   Thursday\n",
       "2                 Den Bosch 2020-12-31       8  2020     12   31   Thursday\n",
       "3                 Eindhoven 2020-12-31       9  2020     12   31   Thursday\n",
       "4                Haaglanden 2020-12-31       5  2020     12   31   Thursday\n",
       "...                     ...        ...     ...   ...    ...  ...        ...\n",
       "25403               Tilburg 2017-02-01       6  2017      2    1  Wednesday\n",
       "25404     Twente/Achterhoek 2017-02-01       4  2017      2    1  Wednesday\n",
       "25405      Veluwe/Flevoland 2017-02-01       3  2017      2    1  Wednesday\n",
       "25406  West Brabant/Zeeland 2017-02-01       6  2017      2    1  Wednesday\n",
       "25407          Zuid Limburg 2017-02-01       4  2017      2    1  Wednesday\n",
       "\n",
       "[25408 rows x 7 columns]"
      ]
     },
     "execution_count": 23,
     "metadata": {},
     "output_type": "execute_result"
    }
   ],
   "source": [
    "df"
   ]
  },
  {
   "cell_type": "code",
   "execution_count": 17,
   "id": "manual-insurance",
   "metadata": {},
   "outputs": [
    {
     "data": {
      "text/plain": [
       "[<matplotlib.lines.Line2D at 0x2430e90b370>]"
      ]
     },
     "execution_count": 17,
     "metadata": {},
     "output_type": "execute_result"
    },
    {
     "data": {
      "image/png": "[encoded data removed]",
      "text/plain": [
       "<Figure size 432x288 with 1 Axes>"
      ]
     },
     "metadata": {
      "needs_background": "light"
     },
     "output_type": "display_data"
    }
   ],
   "source": [
    "xs = df_grouped_by_date['date']    # X axis for plotting\n",
    "ys = df_grouped_by_date['amount']  # Y axis for plotting\n",
    "\n",
    "plt.plot(xs, ys)"
   ]
  },
  {
   "cell_type": "code",
   "execution_count": 18,
   "id": "blond-running",
   "metadata": {},
   "outputs": [
    {
     "data": {
      "text/plain": [
       "<AxesSubplot:xlabel='month'>"
      ]
     },
     "execution_count": 18,
     "metadata": {},
     "output_type": "execute_result"
    },
    {
     "data": {
      "image/png": "[encoded data removed]",
      "text/plain": [
       "<Figure size 432x288 with 1 Axes>"
      ]
     },
     "metadata": {
      "needs_background": "light"
     },
     "output_type": "display_data"
    }
   ],
   "source": [
    "df_groupby_year = df.groupby(['year', 'month']).sum().reset_index()\n",
    "\n",
    "df_groupby_year.pivot(index='month', columns='year', values='amount').plot()"
   ]
  },
  {
   "cell_type": "code",
   "execution_count": 19,
   "id": "basic-costa",
   "metadata": {},
   "outputs": [
    {
     "ename": "NameError",
     "evalue": "name 'g2' is not defined",
     "output_type": "error",
     "traceback": [
      "\u001b[1;31m---------------------------------------------------------------------------\u001b[0m",
      "\u001b[1;31mNameError\u001b[0m                                 Traceback (most recent call last)",
      "\u001b[1;32m<ipython-input-19-725030ac07fa>\u001b[0m in \u001b[0;36m<module>\u001b[1;34m\u001b[0m\n\u001b[1;32m----> 1\u001b[1;33m \u001b[0mplt\u001b[0m\u001b[1;33m.\u001b[0m\u001b[0mplot\u001b[0m\u001b[1;33m(\u001b[0m\u001b[0mg2\u001b[0m\u001b[1;33m[\u001b[0m\u001b[1;34m\"maand\"\u001b[0m\u001b[1;33m]\u001b[0m\u001b[1;33m,\u001b[0m \u001b[0mg2\u001b[0m\u001b[1;33m[\u001b[0m\u001b[1;34m\"amount\"\u001b[0m\u001b[1;33m]\u001b[0m\u001b[1;33m,\u001b[0m \u001b[0mlabel\u001b[0m \u001b[1;33m=\u001b[0m \u001b[0mg2\u001b[0m\u001b[1;33m[\u001b[0m\u001b[1;34m\"jaar\"\u001b[0m\u001b[1;33m]\u001b[0m\u001b[1;33m)\u001b[0m\u001b[1;33m\u001b[0m\u001b[1;33m\u001b[0m\u001b[0m\n\u001b[0m\u001b[0;32m      2\u001b[0m \u001b[0mplt\u001b[0m\u001b[1;33m.\u001b[0m\u001b[0mlegend\u001b[0m\u001b[1;33m(\u001b[0m\u001b[0mdf\u001b[0m\u001b[1;33m[\u001b[0m\u001b[1;34m\"jaar\"\u001b[0m\u001b[1;33m]\u001b[0m\u001b[1;33m)\u001b[0m\u001b[1;33m\u001b[0m\u001b[1;33m\u001b[0m\u001b[0m\n",
      "\u001b[1;31mNameError\u001b[0m: name 'g2' is not defined"
     ]
    }
   ],
   "source": [
    "plt.plot(g2[\"maand\"], g2[\"amount\"], label = g2[\"jaar\"])\n",
    "plt.legend(df[\"jaar\"])"
   ]
  },
  {
   "cell_type": "code",
   "execution_count": null,
   "id": "duplicate-music",
   "metadata": {},
   "outputs": [],
   "source": [
    "g2 = g2.pivot(index = \"maand\", columns = \"jaar\", values = \"amount\")\n",
    "print(g2)"
   ]
  },
  {
   "cell_type": "code",
   "execution_count": null,
   "id": "manufactured-ordinary",
   "metadata": {},
   "outputs": [],
   "source": [
    "g2.plot()"
   ]
  },
  {
   "cell_type": "code",
   "execution_count": null,
   "id": "apart-sandwich",
   "metadata": {},
   "outputs": [],
   "source": [
    "g3 = df.groupby(\"city\", as_index = False)[\"amount\"].sum()\n",
    "g3"
   ]
  },
  {
   "cell_type": "code",
   "execution_count": null,
   "id": "prostate-equality",
   "metadata": {},
   "outputs": [],
   "source": [
    "sns.catplot(kind = \"bar\", y = \"city\", x = \"amount\", data = g3)\n",
    "plt.xticks(rotation=60)\n",
    "plt.show()"
   ]
  },
  {
   "cell_type": "code",
   "execution_count": null,
   "id": "protecting-ghost",
   "metadata": {},
   "outputs": [],
   "source": [
    "dftest = df[\"city\"] == \"Breda\"\n",
    "df2 = df[dftest]\n",
    "df2\n",
    "#monumenttrees = trees[\"STATUS\"] == \"Monumentaal\"\n",
    "#monument = trees[monumenttrees]"
   ]
  },
  {
   "cell_type": "code",
   "execution_count": null,
   "id": "flexible-alliance",
   "metadata": {},
   "outputs": [],
   "source": [
    "g4 = df.groupby(\"wkday\", as_index = False)[\"amount\"].sum()"
   ]
  },
  {
   "cell_type": "code",
   "execution_count": null,
   "id": "metropolitan-satin",
   "metadata": {},
   "outputs": [],
   "source": [
    "sns.catplot(kind = \"bar\", y = \"amount\", x = \"wkday\", data = g4, ci = None)\n",
    "plt.xticks(rotation=60)\n",
    "plt.show()"
   ]
  },
  {
   "cell_type": "code",
   "execution_count": null,
   "id": "parliamentary-senegal",
   "metadata": {},
   "outputs": [],
   "source": [
    "g5 = df.groupby([\"date\", \"city\"], as_index = False)[\"amount\"].sum()\n",
    "g5"
   ]
  },
  {
   "cell_type": "code",
   "execution_count": null,
   "id": "collectible-floating",
   "metadata": {},
   "outputs": [],
   "source": [
    "g5 = g5.pivot(index = \"date\", columns = \"city\", values = \"amount\").fillna(0)\n",
    "print(g5)"
   ]
  },
  {
   "cell_type": "code",
   "execution_count": null,
   "id": "consistent-listing",
   "metadata": {},
   "outputs": [],
   "source": [
    "g5.plot(figsize = (20,15), subplots = True, sharey = True)\n"
   ]
  },
  {
   "cell_type": "code",
   "execution_count": null,
   "id": "unsigned-funeral",
   "metadata": {
    "scrolled": true
   },
   "outputs": [],
   "source": [
    "dfbreda = df[df[\"city\"] == \"Breda\"]\n",
    "dfbreda = dfbreda.groupby([\"maand\", \"jaar\"], as_index = False)[\"amount\"].sum().pivot(index = \"maand\", columns = \"jaar\", values = \"amount\").fillna(0)\n",
    "dfbreda.plot()"
   ]
  },
  {
   "cell_type": "code",
   "execution_count": null,
   "id": "interim-memorial",
   "metadata": {},
   "outputs": [],
   "source": []
  }
 ],
 "metadata": {
  "kernelspec": {
   "display_name": "Python 3",
   "language": "python",
   "name": "python3"
  },
  "language_info": {
   "codemirror_mode": {
    "name": "ipython",
    "version": 3
   },
   "file_extension": ".py",
   "mimetype": "text/x-python",
   "name": "python",
   "nbconvert_exporter": "python",
   "pygments_lexer": "ipython3",
   "version": "3.9.2"
  }
 },
 "nbformat": 4,
 "nbformat_minor": 5
}
